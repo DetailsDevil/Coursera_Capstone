# Ah, finally!
## This Notebook will mainly - entirely, in fact - be used for the capstone project

import pandas as pd
import numpy as pd

Print("Hello Capstone Project Course!")
